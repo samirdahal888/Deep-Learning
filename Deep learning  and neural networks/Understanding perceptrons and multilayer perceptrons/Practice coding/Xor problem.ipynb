{
 "cells": [
  {
   "cell_type": "markdown",
   "id": "0f6afc41-d64e-442a-b432-6d3e1ce2d783",
   "metadata": {},
   "source": [
    "## Demonstrating the limitation of a single perceptron using the XOR problem.\n",
    "## The XOR (exclusive OR) problem is a classic example of a non-linear problem that a single perceptron cannot solve.\n",
    "\n"
   ]
  },
  {
   "cell_type": "raw",
   "id": "59c6712a-822a-46b2-b8c3-2a55d1322c5f",
   "metadata": {},
   "source": [
    " XOR Problem\n",
    "Input: Two binary values (0 or 1).\n",
    "\n",
    "Output: 1 if the inputs are different, 0 if they are the same.\n",
    "\n",
    "Truth Table:\n",
    "\n",
    "Input 1\tInput 2\tOutput\n",
    "0\t    0\t        0\n",
    "0\t    1\t        1\n",
    "1\t    0\t        1\n",
    "1\t    1\t        0\n",
    "Why Single Perceptron Fails:\n",
    "\n",
    "The XOR problem is not linearly separable. You cannot draw a single straight line to separate the outputs (0 and 1)."
   ]
  },
  {
   "cell_type": "code",
   "execution_count": 1,
   "id": "0bca8983-22c0-4221-8ee7-5a4130e200bb",
   "metadata": {},
   "outputs": [],
   "source": [
    "import numpy as np\n",
    "import matplotlib.pyplot as plt\n",
    "import tensorflow as tf\n",
    "from tensorflow import keras\n",
    "from tensorflow.keras.models import Sequential\n",
    "from tensorflow.keras.layers import Dense"
   ]
  },
  {
   "cell_type": "code",
   "execution_count": 2,
   "id": "0f453897-cc91-4675-a241-7583068a615b",
   "metadata": {},
   "outputs": [
    {
     "data": {
      "image/png": "[encoded data removed]",
      "text/plain": [
       "<Figure size 640x480 with 1 Axes>"
      ]
     },
     "metadata": {},
     "output_type": "display_data"
    }
   ],
   "source": [
    "import numpy as np\n",
    "import matplotlib.pyplot as plt\n",
    "\n",
    "X = np.array([[0, 0], [0, 1], [1, 0], [1, 1]])  \n",
    "y = np.array([0, 1, 1, 0])  \n",
    "\n",
    "# s (size) → Controls the size of the points. Larger values make bigger points.\n",
    "# c (color) → Assigns colors based on data values (e.g., class labels y).\n",
    "plt.scatter(X[:, 0], X[:, 1], c=y, s=100)  \n",
    "plt.show()\n",
    "# This data cannot be serated by a single line"
   ]
  },
  {
   "cell_type": "markdown",
   "id": "576e16d0-b4db-42d5-864b-a982c5d4260f",
   "metadata": {},
   "source": [
    "## single perceptron"
   ]
  },
  {
   "cell_type": "code",
   "execution_count": 3,
   "id": "4c5064a0-900c-469a-8606-542d10ac77bf",
   "metadata": {},
   "outputs": [],
   "source": [
    "model1 = Sequential()"
   ]
  },
  {
   "cell_type": "code",
   "execution_count": 4,
   "id": "46208595-747f-4804-b834-45cda7e011d9",
   "metadata": {},
   "outputs": [
    {
     "name": "stderr",
     "output_type": "stream",
     "text": [
      "C:\\Users\\samir\\anaconda3\\Lib\\site-packages\\keras\\src\\layers\\core\\dense.py:87: UserWarning: Do not pass an `input_shape`/`input_dim` argument to a layer. When using Sequential models, prefer using an `Input(shape)` object as the first layer in the model instead.\n",
      "  super().__init__(activity_regularizer=activity_regularizer, **kwargs)\n"
     ]
    }
   ],
   "source": [
    "model1.add(Dense(1,activation = 'sigmoid', input_shape=(2,)))"
   ]
  },
  {
   "cell_type": "code",
   "execution_count": 5,
   "id": "507352a4-b460-4417-8ae1-fc916d99af61",
   "metadata": {},
   "outputs": [],
   "source": [
    "model1.compile(optimizer=\"sgd\", loss='binary_crossentropy',metrics = ['accuracy'])"
   ]
  },
  {
   "cell_type": "code",
   "execution_count": 6,
   "id": "18f89577-12a0-4333-9d02-4881eec35886",
   "metadata": {},
   "outputs": [
    {
     "name": "stdout",
     "output_type": "stream",
     "text": [
      "Epoch 1/10\n",
      "\u001b[1m1/1\u001b[0m \u001b[32m━━━━━━━━━━━━━━━━━━━━\u001b[0m\u001b[37m\u001b[0m \u001b[1m1s\u001b[0m 1s/step - accuracy: 0.7500 - loss: 0.7427\n",
      "Epoch 2/10\n",
      "\u001b[1m1/1\u001b[0m \u001b[32m━━━━━━━━━━━━━━━━━━━━\u001b[0m\u001b[37m\u001b[0m \u001b[1m0s\u001b[0m 88ms/step - accuracy: 0.5000 - loss: 0.7424\n",
      "Epoch 3/10\n",
      "\u001b[1m1/1\u001b[0m \u001b[32m━━━━━━━━━━━━━━━━━━━━\u001b[0m\u001b[37m\u001b[0m \u001b[1m0s\u001b[0m 96ms/step - accuracy: 0.5000 - loss: 0.7422\n",
      "Epoch 4/10\n",
      "\u001b[1m1/1\u001b[0m \u001b[32m━━━━━━━━━━━━━━━━━━━━\u001b[0m\u001b[37m\u001b[0m \u001b[1m0s\u001b[0m 94ms/step - accuracy: 0.5000 - loss: 0.7419\n",
      "Epoch 5/10\n",
      "\u001b[1m1/1\u001b[0m \u001b[32m━━━━━━━━━━━━━━━━━━━━\u001b[0m\u001b[37m\u001b[0m \u001b[1m0s\u001b[0m 89ms/step - accuracy: 0.5000 - loss: 0.7417\n",
      "Epoch 6/10\n",
      "\u001b[1m1/1\u001b[0m \u001b[32m━━━━━━━━━━━━━━━━━━━━\u001b[0m\u001b[37m\u001b[0m \u001b[1m0s\u001b[0m 91ms/step - accuracy: 0.5000 - loss: 0.7414\n",
      "Epoch 7/10\n",
      "\u001b[1m1/1\u001b[0m \u001b[32m━━━━━━━━━━━━━━━━━━━━\u001b[0m\u001b[37m\u001b[0m \u001b[1m0s\u001b[0m 94ms/step - accuracy: 0.5000 - loss: 0.7412\n",
      "Epoch 8/10\n",
      "\u001b[1m1/1\u001b[0m \u001b[32m━━━━━━━━━━━━━━━━━━━━\u001b[0m\u001b[37m\u001b[0m \u001b[1m0s\u001b[0m 86ms/step - accuracy: 0.5000 - loss: 0.7410\n",
      "Epoch 9/10\n",
      "\u001b[1m1/1\u001b[0m \u001b[32m━━━━━━━━━━━━━━━━━━━━\u001b[0m\u001b[37m\u001b[0m \u001b[1m0s\u001b[0m 84ms/step - accuracy: 0.5000 - loss: 0.7407\n",
      "Epoch 10/10\n",
      "\u001b[1m1/1\u001b[0m \u001b[32m━━━━━━━━━━━━━━━━━━━━\u001b[0m\u001b[37m\u001b[0m \u001b[1m0s\u001b[0m 90ms/step - accuracy: 0.5000 - loss: 0.7405\n"
     ]
    }
   ],
   "source": [
    "history = model1.fit(X, y, epochs=10, verbose=1)\n"
   ]
  },
  {
   "cell_type": "code",
   "execution_count": 15,
   "id": "40d685de-0e7e-4354-b4bf-fd6406f5d98c",
   "metadata": {},
   "outputs": [
    {
     "name": "stdout",
     "output_type": "stream",
     "text": [
      "\u001b[1m1/1\u001b[0m \u001b[32m━━━━━━━━━━━━━━━━━━━━\u001b[0m\u001b[37m\u001b[0m \u001b[1m0s\u001b[0m 73ms/step\n",
      "1\n",
      "0\n",
      "1\n",
      "0\n",
      "actual output is [0 1 1 0]\n"
     ]
    }
   ],
   "source": [
    "prediction = model1.predict(X)\n",
    "for i in prediction:\n",
    "    if i>0.5:\n",
    "        print(1)\n",
    "    else:\n",
    "        print(0)\n",
    "print(f\"actual output is {y}\")"
   ]
  },
  {
   "cell_type": "markdown",
   "id": "29c4b822-27dc-48e7-8462-04cb4c71ddf1",
   "metadata": {},
   "source": [
    "# multilayer perceptron"
   ]
  },
  {
   "cell_type": "code",
   "execution_count": 8,
   "id": "0b346767-0381-403a-a4cc-6402df09f779",
   "metadata": {},
   "outputs": [],
   "source": [
    "model = Sequential()"
   ]
  },
  {
   "cell_type": "code",
   "execution_count": 9,
   "id": "92a8ff80-e049-4ce2-b280-16d6abf5305b",
   "metadata": {},
   "outputs": [],
   "source": [
    "model.add(Dense(140,activation = 'relu',input_shape = (2,)))\n",
    "model.add(Dense(60,activation = 'relu'))\n",
    "model.add(Dense(1,activation = 'sigmoid'))\n",
    "          "
   ]
  },
  {
   "cell_type": "code",
   "execution_count": 10,
   "id": "ce3fcd5e-41a1-47f5-a87b-eadd7048adaf",
   "metadata": {},
   "outputs": [],
   "source": [
    "model.compile(optimizer='adam', loss='binary_crossentropy', metrics=['accuracy'])\n"
   ]
  },
  {
   "cell_type": "code",
   "execution_count": 11,
   "id": "41e77ea3-d80f-4888-b487-83be5e37e338",
   "metadata": {},
   "outputs": [
    {
     "name": "stdout",
     "output_type": "stream",
     "text": [
      "Epoch 1/10\n",
      "\u001b[1m1/1\u001b[0m \u001b[32m━━━━━━━━━━━━━━━━━━━━\u001b[0m\u001b[37m\u001b[0m \u001b[1m3s\u001b[0m 3s/step - accuracy: 0.5000 - loss: 0.6964\n",
      "Epoch 2/10\n",
      "\u001b[1m1/1\u001b[0m \u001b[32m━━━━━━━━━━━━━━━━━━━━\u001b[0m\u001b[37m\u001b[0m \u001b[1m0s\u001b[0m 79ms/step - accuracy: 0.2500 - loss: 0.6860\n",
      "Epoch 3/10\n",
      "\u001b[1m1/1\u001b[0m \u001b[32m━━━━━━━━━━━━━━━━━━━━\u001b[0m\u001b[37m\u001b[0m \u001b[1m0s\u001b[0m 79ms/step - accuracy: 0.5000 - loss: 0.6763\n",
      "Epoch 4/10\n",
      "\u001b[1m1/1\u001b[0m \u001b[32m━━━━━━━━━━━━━━━━━━━━\u001b[0m\u001b[37m\u001b[0m \u001b[1m0s\u001b[0m 94ms/step - accuracy: 0.5000 - loss: 0.6673\n",
      "Epoch 5/10\n",
      "\u001b[1m1/1\u001b[0m \u001b[32m━━━━━━━━━━━━━━━━━━━━\u001b[0m\u001b[37m\u001b[0m \u001b[1m0s\u001b[0m 91ms/step - accuracy: 0.5000 - loss: 0.6592\n",
      "Epoch 6/10\n",
      "\u001b[1m1/1\u001b[0m \u001b[32m━━━━━━━━━━━━━━━━━━━━\u001b[0m\u001b[37m\u001b[0m \u001b[1m0s\u001b[0m 79ms/step - accuracy: 0.7500 - loss: 0.6521\n",
      "Epoch 7/10\n",
      "\u001b[1m1/1\u001b[0m \u001b[32m━━━━━━━━━━━━━━━━━━━━\u001b[0m\u001b[37m\u001b[0m \u001b[1m0s\u001b[0m 79ms/step - accuracy: 1.0000 - loss: 0.6455\n",
      "Epoch 8/10\n",
      "\u001b[1m1/1\u001b[0m \u001b[32m━━━━━━━━━━━━━━━━━━━━\u001b[0m\u001b[37m\u001b[0m \u001b[1m0s\u001b[0m 79ms/step - accuracy: 1.0000 - loss: 0.6389\n",
      "Epoch 9/10\n",
      "\u001b[1m1/1\u001b[0m \u001b[32m━━━━━━━━━━━━━━━━━━━━\u001b[0m\u001b[37m\u001b[0m \u001b[1m0s\u001b[0m 95ms/step - accuracy: 1.0000 - loss: 0.6328\n",
      "Epoch 10/10\n",
      "\u001b[1m1/1\u001b[0m \u001b[32m━━━━━━━━━━━━━━━━━━━━\u001b[0m\u001b[37m\u001b[0m \u001b[1m0s\u001b[0m 95ms/step - accuracy: 1.0000 - loss: 0.6270\n"
     ]
    }
   ],
   "source": [
    "history = model.fit(X,y,epochs = 10)"
   ]
  },
  {
   "cell_type": "code",
   "execution_count": 17,
   "id": "cd05f32d-471d-4a66-9be3-d3d18306e19a",
   "metadata": {},
   "outputs": [
    {
     "name": "stdout",
     "output_type": "stream",
     "text": [
      "\u001b[1m1/1\u001b[0m \u001b[32m━━━━━━━━━━━━━━━━━━━━\u001b[0m\u001b[37m\u001b[0m \u001b[1m0s\u001b[0m 81ms/step\n",
      "0\n",
      "1\n",
      "1\n",
      "0\n",
      "actual output is [0 1 1 0]\n",
      "multilayer perceptron solve the problem\n"
     ]
    }
   ],
   "source": [
    "prediction = model.predict(X)\n",
    "for i in prediction:\n",
    "    if i>0.5:\n",
    "        print(1)\n",
    "    else:\n",
    "        print(0)\n",
    "print(f\"actual output is {y}\") \n",
    "print(\"multilayer perceptron solve the problem\")"
   ]
  },
  {
   "cell_type": "code",
   "execution_count": null,
   "id": "e0574086-db7f-407b-9c4f-fe5647d5e28d",
   "metadata": {},
   "outputs": [],
   "source": [
    "\n"
   ]
  },
  {
   "cell_type": "code",
   "execution_count": null,
   "id": "042c843a-bf5e-4b1c-8425-9baa3b789437",
   "metadata": {},
   "outputs": [],
   "source": []
  },
  {
   "cell_type": "code",
   "execution_count": null,
   "id": "8f4ff57b-2344-4ced-aa6f-9b99f806e183",
   "metadata": {},
   "outputs": [],
   "source": []
  }
 ],
 "metadata": {
  "kernelspec": {
   "display_name": "Python 3 (ipykernel)",
   "language": "python",
   "name": "python3"
  },
  "language_info": {
   "codemirror_mode": {
    "name": "ipython",
    "version": 3
   },
   "file_extension": ".py",
   "mimetype": "text/x-python",
   "name": "python",
   "nbconvert_exporter": "python",
   "pygments_lexer": "ipython3",
   "version": "3.12.4"
  }
 },
 "nbformat": 4,
 "nbformat_minor": 5
}

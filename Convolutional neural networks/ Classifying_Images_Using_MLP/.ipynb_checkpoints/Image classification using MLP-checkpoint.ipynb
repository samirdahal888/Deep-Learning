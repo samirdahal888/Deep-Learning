{
 "cells": [
  {
   "cell_type": "markdown",
   "id": "9bc7352a-9efe-45fd-8a49-e8d0808dfa61",
   "metadata": {},
   "source": [
    "# image Classification Using MLP\n",
    "**A Multilayer Perceptron (MLP) is a type of artificial neural network where neurons are stacked in layers. It consists of:**\n",
    "\n",
    "- Input Layer – Takes input data (images in this case).\n",
    "- Hidden Layers – Processes the data and extracts patterns.\n",
    "- Output Layer – Produces the final classification result.\n",
    "\n",
    "**we will see its performance and also find out its limitation ,why MLP is not good for image clasification**\n",
    "\n",
    "- we use an MLP to classify handwritten digits (0-9) from the MNIST dataset."
   ]
  },
  {
   "cell_type": "code",
   "execution_count": null,
   "id": "5ec2b95d-539a-42c7-85f2-195a27aef8bd",
   "metadata": {},
   "outputs": [],
   "source": []
  },
  {
   "cell_type": "code",
   "execution_count": 1,
   "id": "76a78809-acf3-41af-b334-62feedc8884c",
   "metadata": {},
   "outputs": [],
   "source": [
    "#importing all the necessary liberies\n",
    "\n",
    "import tensorflow as tf\n",
    "from tensorflow import keras\n",
    "from keras.models import Sequential\n",
    "from keras.layers import Dense\n",
    "import matplotlib.pyplot as plt\n",
    "from keras.datasets import mnist\n"
   ]
  },
  {
   "cell_type": "markdown",
   "id": "48551bae-9235-48aa-89df-eb887ba52800",
   "metadata": {},
   "source": [
    "# Loding the mnist data"
   ]
  },
  {
   "cell_type": "code",
   "execution_count": 2,
   "id": "1321723c-725e-41da-a419-65c342ead8fe",
   "metadata": {},
   "outputs": [],
   "source": [
    "(x_train, y_train), (x_test, y_test) = mnist.load_data()"
   ]
  },
  {
   "cell_type": "code",
   "execution_count": 3,
   "id": "94803354-477f-42f4-b86e-c50b59ed43b1",
   "metadata": {},
   "outputs": [
    {
     "data": {
      "text/plain": [
       "(60000, 28, 28)"
      ]
     },
     "execution_count": 3,
     "metadata": {},
     "output_type": "execute_result"
    }
   ],
   "source": [
    "x_train.shape #sixty thousand image each of 28 row and 28 column"
   ]
  },
  {
   "cell_type": "markdown",
   "id": "9cd19587-8260-4803-bd83-b90f98d8aba6",
   "metadata": {},
   "source": [
    "##### How Computers See Images\n",
    "- A grayscale image is represented as a 2D matrix of pixel values.\n",
    "- Each pixel has a value between 0 (black) and 255 (white).\n",
    "- Example: A 28×28 image is stored as a 28×28 matrix in a computer."
   ]
  },
  {
   "cell_type": "code",
   "execution_count": 4,
   "id": "431c7754-93d6-4cc0-9e4f-87b1d3b48ca3",
   "metadata": {},
   "outputs": [
    {
     "data": {
      "text/plain": [
       "(28, 28)"
      ]
     },
     "execution_count": 4,
     "metadata": {},
     "output_type": "execute_result"
    }
   ],
   "source": [
    "x_train[0].shape"
   ]
  },
  {
   "cell_type": "code",
   "execution_count": 5,
   "id": "50eb062b-e0c5-4434-a4ac-50122c620295",
   "metadata": {},
   "outputs": [
    {
     "data": {
      "text/plain": [
       "array([[  0,   0,   0,   0,   0,   0,   0,   0,   0,   0,   0,   0,   0,\n",
       "          0,   0,   0,   0,   0,   0,   0,   0,   0,   0,   0,   0,   0,\n",
       "          0,   0],\n",
       "       [  0,   0,   0,   0,   0,   0,   0,   0,   0,   0,   0,   0,   0,\n",
       "          0,   0,   0,   0,   0,   0,   0,   0,   0,   0,   0,   0,   0,\n",
       "          0,   0],\n",
       "       [  0,   0,   0,   0,   0,   0,   0,   0,   0,   0,   0,   0,   0,\n",
       "          0,   0,   0,   0,   0,   0,   0,   0,   0,   0,   0,   0,   0,\n",
       "          0,   0],\n",
       "       [  0,   0,   0,   0,   0,   0,   0,   0,   0,   0,   0,   0,   0,\n",
       "          0,   0,   0,   0,   0,   0,   0,   0,   0,   0,   0,   0,   0,\n",
       "          0,   0],\n",
       "       [  0,   0,   0,   0,   0,   0,   0,   0,   0,   0,   0,   0,   0,\n",
       "          0,   0,   0,   0,   0,   0,   0,   0,   0,   0,   0,   0,   0,\n",
       "          0,   0],\n",
       "       [  0,   0,   0,   0,   0,   0,   0,   0,   0,   0,   0,   0,   3,\n",
       "         18,  18,  18, 126, 136, 175,  26, 166, 255, 247, 127,   0,   0,\n",
       "          0,   0],\n",
       "       [  0,   0,   0,   0,   0,   0,   0,   0,  30,  36,  94, 154, 170,\n",
       "        253, 253, 253, 253, 253, 225, 172, 253, 242, 195,  64,   0,   0,\n",
       "          0,   0],\n",
       "       [  0,   0,   0,   0,   0,   0,   0,  49, 238, 253, 253, 253, 253,\n",
       "        253, 253, 253, 253, 251,  93,  82,  82,  56,  39,   0,   0,   0,\n",
       "          0,   0],\n",
       "       [  0,   0,   0,   0,   0,   0,   0,  18, 219, 253, 253, 253, 253,\n",
       "        253, 198, 182, 247, 241,   0,   0,   0,   0,   0,   0,   0,   0,\n",
       "          0,   0],\n",
       "       [  0,   0,   0,   0,   0,   0,   0,   0,  80, 156, 107, 253, 253,\n",
       "        205,  11,   0,  43, 154,   0,   0,   0,   0,   0,   0,   0,   0,\n",
       "          0,   0],\n",
       "       [  0,   0,   0,   0,   0,   0,   0,   0,   0,  14,   1, 154, 253,\n",
       "         90,   0,   0,   0,   0,   0,   0,   0,   0,   0,   0,   0,   0,\n",
       "          0,   0],\n",
       "       [  0,   0,   0,   0,   0,   0,   0,   0,   0,   0,   0, 139, 253,\n",
       "        190,   2,   0,   0,   0,   0,   0,   0,   0,   0,   0,   0,   0,\n",
       "          0,   0],\n",
       "       [  0,   0,   0,   0,   0,   0,   0,   0,   0,   0,   0,  11, 190,\n",
       "        253,  70,   0,   0,   0,   0,   0,   0,   0,   0,   0,   0,   0,\n",
       "          0,   0],\n",
       "       [  0,   0,   0,   0,   0,   0,   0,   0,   0,   0,   0,   0,  35,\n",
       "        241, 225, 160, 108,   1,   0,   0,   0,   0,   0,   0,   0,   0,\n",
       "          0,   0],\n",
       "       [  0,   0,   0,   0,   0,   0,   0,   0,   0,   0,   0,   0,   0,\n",
       "         81, 240, 253, 253, 119,  25,   0,   0,   0,   0,   0,   0,   0,\n",
       "          0,   0],\n",
       "       [  0,   0,   0,   0,   0,   0,   0,   0,   0,   0,   0,   0,   0,\n",
       "          0,  45, 186, 253, 253, 150,  27,   0,   0,   0,   0,   0,   0,\n",
       "          0,   0],\n",
       "       [  0,   0,   0,   0,   0,   0,   0,   0,   0,   0,   0,   0,   0,\n",
       "          0,   0,  16,  93, 252, 253, 187,   0,   0,   0,   0,   0,   0,\n",
       "          0,   0],\n",
       "       [  0,   0,   0,   0,   0,   0,   0,   0,   0,   0,   0,   0,   0,\n",
       "          0,   0,   0,   0, 249, 253, 249,  64,   0,   0,   0,   0,   0,\n",
       "          0,   0],\n",
       "       [  0,   0,   0,   0,   0,   0,   0,   0,   0,   0,   0,   0,   0,\n",
       "          0,  46, 130, 183, 253, 253, 207,   2,   0,   0,   0,   0,   0,\n",
       "          0,   0],\n",
       "       [  0,   0,   0,   0,   0,   0,   0,   0,   0,   0,   0,   0,  39,\n",
       "        148, 229, 253, 253, 253, 250, 182,   0,   0,   0,   0,   0,   0,\n",
       "          0,   0],\n",
       "       [  0,   0,   0,   0,   0,   0,   0,   0,   0,   0,  24, 114, 221,\n",
       "        253, 253, 253, 253, 201,  78,   0,   0,   0,   0,   0,   0,   0,\n",
       "          0,   0],\n",
       "       [  0,   0,   0,   0,   0,   0,   0,   0,  23,  66, 213, 253, 253,\n",
       "        253, 253, 198,  81,   2,   0,   0,   0,   0,   0,   0,   0,   0,\n",
       "          0,   0],\n",
       "       [  0,   0,   0,   0,   0,   0,  18, 171, 219, 253, 253, 253, 253,\n",
       "        195,  80,   9,   0,   0,   0,   0,   0,   0,   0,   0,   0,   0,\n",
       "          0,   0],\n",
       "       [  0,   0,   0,   0,  55, 172, 226, 253, 253, 253, 253, 244, 133,\n",
       "         11,   0,   0,   0,   0,   0,   0,   0,   0,   0,   0,   0,   0,\n",
       "          0,   0],\n",
       "       [  0,   0,   0,   0, 136, 253, 253, 253, 212, 135, 132,  16,   0,\n",
       "          0,   0,   0,   0,   0,   0,   0,   0,   0,   0,   0,   0,   0,\n",
       "          0,   0],\n",
       "       [  0,   0,   0,   0,   0,   0,   0,   0,   0,   0,   0,   0,   0,\n",
       "          0,   0,   0,   0,   0,   0,   0,   0,   0,   0,   0,   0,   0,\n",
       "          0,   0],\n",
       "       [  0,   0,   0,   0,   0,   0,   0,   0,   0,   0,   0,   0,   0,\n",
       "          0,   0,   0,   0,   0,   0,   0,   0,   0,   0,   0,   0,   0,\n",
       "          0,   0],\n",
       "       [  0,   0,   0,   0,   0,   0,   0,   0,   0,   0,   0,   0,   0,\n",
       "          0,   0,   0,   0,   0,   0,   0,   0,   0,   0,   0,   0,   0,\n",
       "          0,   0]], dtype=uint8)"
      ]
     },
     "execution_count": 5,
     "metadata": {},
     "output_type": "execute_result"
    }
   ],
   "source": [
    "x_train[0]"
   ]
  },
  {
   "cell_type": "code",
   "execution_count": 6,
   "id": "72cb3e62-fd2c-4e19-ad96-3d118c5c067c",
   "metadata": {},
   "outputs": [
    {
     "data": {
      "text/plain": [
       "<matplotlib.image.AxesImage at 0x2732cbe3d70>"
      ]
     },
     "execution_count": 6,
     "metadata": {},
     "output_type": "execute_result"
    },
    {
     "data": {
      "image/png": "[encoded data removed]",
      "text/plain": [
       "<Figure size 640x480 with 1 Axes>"
      ]
     },
     "metadata": {},
     "output_type": "display_data"
    }
   ],
   "source": [
    "plt.imshow(x_train[0],cmap='gray') #visualizing the first image of x_train"
   ]
  },
  {
   "cell_type": "code",
   "execution_count": 7,
   "id": "1153951c-ac06-4142-b67f-930917d6bb40",
   "metadata": {},
   "outputs": [
    {
     "data": {
      "text/plain": [
       "5"
      ]
     },
     "execution_count": 7,
     "metadata": {},
     "output_type": "execute_result"
    }
   ],
   "source": [
    "y_train[0]"
   ]
  },
  {
   "attachments": {
    "2c205cd0-113d-499d-b357-77a844708f49.png": {
     "image/png": "[encoded data removed]"
    }
   },
   "cell_type": "markdown",
   "id": "05283428-3b22-4584-b9e2-8545443b4422",
   "metadata": {},
   "source": [
    "# Flattening the Image  (INPUT LAYER)\n",
    "**MLPs cannot process 2D images directly. They require 1D vectors.**  \n",
    "**We flatten the 28×28 matrix into a single 1D vector of 784 elements.**  \n",
    "**The flattened vector is then fed into the input layer.** \n",
    "- MLPs only take as input 1D vectors with dimensions (1, n)\n",
    "###  That said, the input layer in this example will have a total of 784 nodes: x1, x2, …, x784.\n",
    "![image.png](attachment:2c205cd0-113d-499d-b357-77a844708f49.png)"
   ]
  },
  {
   "cell_type": "code",
   "execution_count": 8,
   "id": "86dd6779-86d8-479a-89f4-973d87edfb69",
   "metadata": {},
   "outputs": [],
   "source": [
    "from keras.layers import Flatten,Input"
   ]
  },
  {
   "cell_type": "code",
   "execution_count": 9,
   "id": "89b91c53-ad06-4372-9cc1-d8fb41ca63e3",
   "metadata": {},
   "outputs": [],
   "source": [
    "model = Sequential()\n",
    "model.add(Input(shape=(28,28)))\n",
    "model.add(Flatten()) #The Flatten layer in Keras automatically converts 2D input into 1D."
   ]
  },
  {
   "cell_type": "markdown",
   "id": "979935ae-9728-43c6-83da-1900c2aa25af",
   "metadata": {},
   "source": [
    "# 2. Hidden Layers\n",
    "### What Are Hidden Layers?\n",
    "- #### Hidden layers extract features from input data.\n",
    "- #### The number of layers and neurons can be customized.\n",
    "- #### In this case, we will be using two hidden layers with 512 neurons each.\n",
    "### Choosing an Activation Function\n",
    "- #### The activation function decides how the neurons process input.\n",
    "- #### ReLU (Rectified Linear Unit) is commonly used in hidden layers because:\n",
    "- #### It helps avoid the vanishing gradient problem.\n",
    "- #### It allows the network to learn complex patterns.\n",
    "- #### Softmax is used in the output layer for classification."
   ]
  },
  {
   "cell_type": "code",
   "execution_count": 10,
   "id": "697e9eac-fd2f-4f49-8a38-c87ddbf5692f",
   "metadata": {},
   "outputs": [],
   "source": [
    "model.add(Dense(512,activation='relu')) # First hidden layer with 512 neurons\n",
    "model.add(Dense(512,activation='relu')) # second hidden layer with 512 neurons\n",
    "# The Dense layer connects all neurons in one layer to the next.\n",
    "# The ReLU activation function is used for both layers."
   ]
  },
  {
   "cell_type": "markdown",
   "id": "c2b0a1ae-f5fc-4368-86dd-671987556e37",
   "metadata": {},
   "source": [
    "# 3. Output Layer\n",
    "- ### The output layer size depends on the number of classes.\n",
    "- ### Since we classify 10 digits (0-9), the output layer has 10 neurons.\n",
    "- ### The Softmax function is used because it converts output values into probabilities."
   ]
  },
  {
   "cell_type": "code",
   "execution_count": 11,
   "id": "11b1a516-f953-4c36-bee6-622e543d219f",
   "metadata": {},
   "outputs": [],
   "source": [
    "model.add(Dense(10,activation='softmax'))  # Output layer with 10 neurons"
   ]
  },
  {
   "cell_type": "code",
   "execution_count": 12,
   "id": "8ce6f56f-e5ac-4b83-8001-c6613ded1585",
   "metadata": {},
   "outputs": [
    {
     "data": {
      "text/html": [
       "<pre style=\"white-space:pre;overflow-x:auto;line-height:normal;font-family:Menlo,'DejaVu Sans Mono',consolas,'Courier New',monospace\"><span style=\"font-weight: bold\">Model: \"sequential\"</span>\n",
       "</pre>\n"
      ],
      "text/plain": [
       "\u001b[1mModel: \"sequential\"\u001b[0m\n"
      ]
     },
     "metadata": {},
     "output_type": "display_data"
    },
    {
     "data": {
      "text/html": [
       "<pre style=\"white-space:pre;overflow-x:auto;line-height:normal;font-family:Menlo,'DejaVu Sans Mono',consolas,'Courier New',monospace\">┏━━━━━━━━━━━━━━━━━━━━━━━━━━━━━━━━━━━━━━┳━━━━━━━━━━━━━━━━━━━━━━━━━━━━━┳━━━━━━━━━━━━━━━━━┓\n",
       "┃<span style=\"font-weight: bold\"> Layer (type)                         </span>┃<span style=\"font-weight: bold\"> Output Shape                </span>┃<span style=\"font-weight: bold\">         Param # </span>┃\n",
       "┡━━━━━━━━━━━━━━━━━━━━━━━━━━━━━━━━━━━━━━╇━━━━━━━━━━━━━━━━━━━━━━━━━━━━━╇━━━━━━━━━━━━━━━━━┩\n",
       "│ flatten (<span style=\"color: #0087ff; text-decoration-color: #0087ff\">Flatten</span>)                    │ (<span style=\"color: #00d7ff; text-decoration-color: #00d7ff\">None</span>, <span style=\"color: #00af00; text-decoration-color: #00af00\">784</span>)                 │               <span style=\"color: #00af00; text-decoration-color: #00af00\">0</span> │\n",
       "├──────────────────────────────────────┼─────────────────────────────┼─────────────────┤\n",
       "│ dense (<span style=\"color: #0087ff; text-decoration-color: #0087ff\">Dense</span>)                        │ (<span style=\"color: #00d7ff; text-decoration-color: #00d7ff\">None</span>, <span style=\"color: #00af00; text-decoration-color: #00af00\">512</span>)                 │         <span style=\"color: #00af00; text-decoration-color: #00af00\">401,920</span> │\n",
       "├──────────────────────────────────────┼─────────────────────────────┼─────────────────┤\n",
       "│ dense_1 (<span style=\"color: #0087ff; text-decoration-color: #0087ff\">Dense</span>)                      │ (<span style=\"color: #00d7ff; text-decoration-color: #00d7ff\">None</span>, <span style=\"color: #00af00; text-decoration-color: #00af00\">512</span>)                 │         <span style=\"color: #00af00; text-decoration-color: #00af00\">262,656</span> │\n",
       "├──────────────────────────────────────┼─────────────────────────────┼─────────────────┤\n",
       "│ dense_2 (<span style=\"color: #0087ff; text-decoration-color: #0087ff\">Dense</span>)                      │ (<span style=\"color: #00d7ff; text-decoration-color: #00d7ff\">None</span>, <span style=\"color: #00af00; text-decoration-color: #00af00\">10</span>)                  │           <span style=\"color: #00af00; text-decoration-color: #00af00\">5,130</span> │\n",
       "└──────────────────────────────────────┴─────────────────────────────┴─────────────────┘\n",
       "</pre>\n"
      ],
      "text/plain": [
       "┏━━━━━━━━━━━━━━━━━━━━━━━━━━━━━━━━━━━━━━┳━━━━━━━━━━━━━━━━━━━━━━━━━━━━━┳━━━━━━━━━━━━━━━━━┓\n",
       "┃\u001b[1m \u001b[0m\u001b[1mLayer (type)                        \u001b[0m\u001b[1m \u001b[0m┃\u001b[1m \u001b[0m\u001b[1mOutput Shape               \u001b[0m\u001b[1m \u001b[0m┃\u001b[1m \u001b[0m\u001b[1m        Param #\u001b[0m\u001b[1m \u001b[0m┃\n",
       "┡━━━━━━━━━━━━━━━━━━━━━━━━━━━━━━━━━━━━━━╇━━━━━━━━━━━━━━━━━━━━━━━━━━━━━╇━━━━━━━━━━━━━━━━━┩\n",
       "│ flatten (\u001b[38;5;33mFlatten\u001b[0m)                    │ (\u001b[38;5;45mNone\u001b[0m, \u001b[38;5;34m784\u001b[0m)                 │               \u001b[38;5;34m0\u001b[0m │\n",
       "├──────────────────────────────────────┼─────────────────────────────┼─────────────────┤\n",
       "│ dense (\u001b[38;5;33mDense\u001b[0m)                        │ (\u001b[38;5;45mNone\u001b[0m, \u001b[38;5;34m512\u001b[0m)                 │         \u001b[38;5;34m401,920\u001b[0m │\n",
       "├──────────────────────────────────────┼─────────────────────────────┼─────────────────┤\n",
       "│ dense_1 (\u001b[38;5;33mDense\u001b[0m)                      │ (\u001b[38;5;45mNone\u001b[0m, \u001b[38;5;34m512\u001b[0m)                 │         \u001b[38;5;34m262,656\u001b[0m │\n",
       "├──────────────────────────────────────┼─────────────────────────────┼─────────────────┤\n",
       "│ dense_2 (\u001b[38;5;33mDense\u001b[0m)                      │ (\u001b[38;5;45mNone\u001b[0m, \u001b[38;5;34m10\u001b[0m)                  │           \u001b[38;5;34m5,130\u001b[0m │\n",
       "└──────────────────────────────────────┴─────────────────────────────┴─────────────────┘\n"
      ]
     },
     "metadata": {},
     "output_type": "display_data"
    },
    {
     "data": {
      "text/html": [
       "<pre style=\"white-space:pre;overflow-x:auto;line-height:normal;font-family:Menlo,'DejaVu Sans Mono',consolas,'Courier New',monospace\"><span style=\"font-weight: bold\"> Total params: </span><span style=\"color: #00af00; text-decoration-color: #00af00\">669,706</span> (2.55 MB)\n",
       "</pre>\n"
      ],
      "text/plain": [
       "\u001b[1m Total params: \u001b[0m\u001b[38;5;34m669,706\u001b[0m (2.55 MB)\n"
      ]
     },
     "metadata": {},
     "output_type": "display_data"
    },
    {
     "data": {
      "text/html": [
       "<pre style=\"white-space:pre;overflow-x:auto;line-height:normal;font-family:Menlo,'DejaVu Sans Mono',consolas,'Courier New',monospace\"><span style=\"font-weight: bold\"> Trainable params: </span><span style=\"color: #00af00; text-decoration-color: #00af00\">669,706</span> (2.55 MB)\n",
       "</pre>\n"
      ],
      "text/plain": [
       "\u001b[1m Trainable params: \u001b[0m\u001b[38;5;34m669,706\u001b[0m (2.55 MB)\n"
      ]
     },
     "metadata": {},
     "output_type": "display_data"
    },
    {
     "data": {
      "text/html": [
       "<pre style=\"white-space:pre;overflow-x:auto;line-height:normal;font-family:Menlo,'DejaVu Sans Mono',consolas,'Courier New',monospace\"><span style=\"font-weight: bold\"> Non-trainable params: </span><span style=\"color: #00af00; text-decoration-color: #00af00\">0</span> (0.00 B)\n",
       "</pre>\n"
      ],
      "text/plain": [
       "\u001b[1m Non-trainable params: \u001b[0m\u001b[38;5;34m0\u001b[0m (0.00 B)\n"
      ]
     },
     "metadata": {},
     "output_type": "display_data"
    }
   ],
   "source": [
    "model.summary() #prints the model summary"
   ]
  },
  {
   "cell_type": "markdown",
   "id": "21238a59-5bb2-48ec-a2dc-d0642b2f9460",
   "metadata": {},
   "source": [
    "# How parameters are calculated\n",
    "- flatten layer = No trainable parameter ,just reshaing the input\n",
    "- dense layer = 786input * 512neurons +512 bias =   401,920 \n",
    "- dense_1 (Dense)   = 512input *512neurons +512bias = 262,656\n",
    "- dense_2 (Dense)  =512input *10neurons +10bias =  5,130 \n",
    " \n",
    "**Total trainable parameter =  401,920 + 262,656 + 5,130 = 669,706**\n"
   ]
  },
  {
   "cell_type": "code",
   "execution_count": 13,
   "id": "84b59f4f-9034-490d-b930-63a16bc9b27f",
   "metadata": {},
   "outputs": [],
   "source": [
    "model.compile(optimizer='adam', loss='sparse_categorical_crossentropy', metrics=['accuracy'])\n"
   ]
  },
  {
   "cell_type": "markdown",
   "id": "8b1af1c3-d090-406b-a484-ef6cee41870c",
   "metadata": {},
   "source": [
    "# Why model.compile()?\n",
    "- Before training, we need to configure the model by specifying:\n",
    "\n",
    "- Loss function – Measures how well the model is performing.\n",
    "- Optimizer – Adjusts weights to minimize loss.\n",
    "- Metrics – Tracks performance (e.g., accuracy)."
   ]
  },
  {
   "cell_type": "code",
   "execution_count": 14,
   "id": "5ddb10bc-a442-4860-8999-38dc44cd5d35",
   "metadata": {},
   "outputs": [
    {
     "name": "stdout",
     "output_type": "stream",
     "text": [
      "Epoch 1/10\n",
      "\u001b[1m1500/1500\u001b[0m \u001b[32m━━━━━━━━━━━━━━━━━━━━\u001b[0m\u001b[37m\u001b[0m \u001b[1m15s\u001b[0m 9ms/step - accuracy: 0.8492 - loss: 6.2099 - val_accuracy: 0.9358 - val_loss: 0.3754\n",
      "Epoch 2/10\n",
      "\u001b[1m1500/1500\u001b[0m \u001b[32m━━━━━━━━━━━━━━━━━━━━\u001b[0m\u001b[37m\u001b[0m \u001b[1m13s\u001b[0m 8ms/step - accuracy: 0.9474 - loss: 0.2587 - val_accuracy: 0.9423 - val_loss: 0.2646\n",
      "Epoch 3/10\n",
      "\u001b[1m1500/1500\u001b[0m \u001b[32m━━━━━━━━━━━━━━━━━━━━\u001b[0m\u001b[37m\u001b[0m \u001b[1m12s\u001b[0m 8ms/step - accuracy: 0.9572 - loss: 0.1649 - val_accuracy: 0.9394 - val_loss: 0.2637\n",
      "Epoch 4/10\n",
      "\u001b[1m1500/1500\u001b[0m \u001b[32m━━━━━━━━━━━━━━━━━━━━\u001b[0m\u001b[37m\u001b[0m \u001b[1m14s\u001b[0m 9ms/step - accuracy: 0.9573 - loss: 0.1634 - val_accuracy: 0.9572 - val_loss: 0.1748\n",
      "Epoch 5/10\n",
      "\u001b[1m1500/1500\u001b[0m \u001b[32m━━━━━━━━━━━━━━━━━━━━\u001b[0m\u001b[37m\u001b[0m \u001b[1m13s\u001b[0m 8ms/step - accuracy: 0.9626 - loss: 0.1475 - val_accuracy: 0.9552 - val_loss: 0.1842\n",
      "Epoch 6/10\n",
      "\u001b[1m1500/1500\u001b[0m \u001b[32m━━━━━━━━━━━━━━━━━━━━\u001b[0m\u001b[37m\u001b[0m \u001b[1m12s\u001b[0m 8ms/step - accuracy: 0.9682 - loss: 0.1291 - val_accuracy: 0.9556 - val_loss: 0.1826\n",
      "Epoch 7/10\n",
      "\u001b[1m1500/1500\u001b[0m \u001b[32m━━━━━━━━━━━━━━━━━━━━\u001b[0m\u001b[37m\u001b[0m \u001b[1m12s\u001b[0m 8ms/step - accuracy: 0.9682 - loss: 0.1217 - val_accuracy: 0.9586 - val_loss: 0.1871\n",
      "Epoch 8/10\n",
      "\u001b[1m1500/1500\u001b[0m \u001b[32m━━━━━━━━━━━━━━━━━━━━\u001b[0m\u001b[37m\u001b[0m \u001b[1m13s\u001b[0m 9ms/step - accuracy: 0.9716 - loss: 0.1088 - val_accuracy: 0.9588 - val_loss: 0.2082\n",
      "Epoch 9/10\n",
      "\u001b[1m1500/1500\u001b[0m \u001b[32m━━━━━━━━━━━━━━━━━━━━\u001b[0m\u001b[37m\u001b[0m \u001b[1m14s\u001b[0m 9ms/step - accuracy: 0.9761 - loss: 0.0964 - val_accuracy: 0.9660 - val_loss: 0.1679\n",
      "Epoch 10/10\n",
      "\u001b[1m1500/1500\u001b[0m \u001b[32m━━━━━━━━━━━━━━━━━━━━\u001b[0m\u001b[37m\u001b[0m \u001b[1m14s\u001b[0m 9ms/step - accuracy: 0.9770 - loss: 0.0848 - val_accuracy: 0.9671 - val_loss: 0.1724\n"
     ]
    }
   ],
   "source": [
    "history = model.fit(x_train,y_train,epochs = 10,batch_size = 32,validation_split=0.2) #traning the model"
   ]
  },
  {
   "cell_type": "code",
   "execution_count": 18,
   "id": "8ebc5a26-2d70-4f08-b9db-47fba8033f05",
   "metadata": {},
   "outputs": [
    {
     "data": {
      "text/plain": [
       "Text(0, 0.5, 'accuracy')"
      ]
     },
     "execution_count": 18,
     "metadata": {},
     "output_type": "execute_result"
    },
    {
     "data": {
      "image/png": "[encoded data removed]",
      "text/plain": [
       "<Figure size 640x480 with 1 Axes>"
      ]
     },
     "metadata": {},
     "output_type": "display_data"
    }
   ],
   "source": [
    "plt.plot(history.history['accuracy'])\n",
    "plt.plot(history.history['val_accuracy'])\n",
    "plt.xlabel('epochs')\n",
    "plt.ylabel('accuracy')"
   ]
  },
  {
   "cell_type": "code",
   "execution_count": 19,
   "id": "00e977f2-1377-4ea3-ae04-b33ccb57b64c",
   "metadata": {},
   "outputs": [
    {
     "name": "stdout",
     "output_type": "stream",
     "text": [
      "\u001b[1m313/313\u001b[0m \u001b[32m━━━━━━━━━━━━━━━━━━━━\u001b[0m\u001b[37m\u001b[0m \u001b[1m1s\u001b[0m 3ms/step - accuracy: 0.9592 - loss: 0.2190\n",
      "Test Accuracy: 0.9646\n",
      "Test Loss: 0.1914\n"
     ]
    }
   ],
   "source": [
    "test_loss, test_acc = model.evaluate(x_test, y_test)  # model.evaluate(x_test, y_test) → Computes the test loss and accuracy.\n",
    "print(f\"Test Accuracy: {test_acc:.4f}\")\n",
    "print(f\"Test Loss: {test_loss:.4f}\")"
   ]
  },
  {
   "cell_type": "code",
   "execution_count": 20,
   "id": "329e8664-0e3d-48dc-aaa2-5b44c880ebc4",
   "metadata": {},
   "outputs": [
    {
     "name": "stdout",
     "output_type": "stream",
     "text": [
      "\u001b[1m313/313\u001b[0m \u001b[32m━━━━━━━━━━━━━━━━━━━━\u001b[0m\u001b[37m\u001b[0m \u001b[1m1s\u001b[0m 2ms/step\n"
     ]
    }
   ],
   "source": [
    "predict = model.predict(x_test)\n"
   ]
  },
  {
   "cell_type": "code",
   "execution_count": 22,
   "id": "0dc5c0bf-8e8d-412b-b8fd-f156a52bc65d",
   "metadata": {},
   "outputs": [],
   "source": [
    "import numpy as np"
   ]
  },
  {
   "cell_type": "code",
   "execution_count": 24,
   "id": "1a2d6d6d-a548-41e5-a0cd-82ae9d313e4e",
   "metadata": {},
   "outputs": [
    {
     "data": {
      "text/plain": [
       "7"
      ]
     },
     "execution_count": 24,
     "metadata": {},
     "output_type": "execute_result"
    }
   ],
   "source": [
    "np.argmax(predict[0])"
   ]
  },
  {
   "cell_type": "code",
   "execution_count": 25,
   "id": "4815d510-76ab-4bd8-8736-4b025c735bf2",
   "metadata": {},
   "outputs": [
    {
     "data": {
      "text/plain": [
       "7"
      ]
     },
     "execution_count": 25,
     "metadata": {},
     "output_type": "execute_result"
    }
   ],
   "source": [
    "y_test[0]"
   ]
  },
  {
   "cell_type": "markdown",
   "id": "47bfc3cf-0494-49e0-bc29-1f860cdbb0c1",
   "metadata": {},
   "source": [
    "# MLP vs. CNN for Image Classification\n",
    "### MLP Performance on MNIST\n",
    "- MLPs achieve ~96% accuracy on the MNIST dataset, while CNNs can reach ~99%.\n",
    " - MNIST is simple and well-preprocessed:\n",
    "- All images are 28×28 pixels, centered, and grayscale.\n",
    "- The dataset is clean with minimal noise.\n",
    "- This makes it easier for MLPs to perform well despite their limitations.\n",
    "### MLP Performance on Complex Datasets\n",
    "- On datasets like CIFAR-10, MLPs perform poorly (~30–40% accuracy).\n",
    "- In real-world scenarios, images:\n",
    "  - Have different sizes and background noise.\n",
    "  - Contain color variations.\n",
    "  - Have objects in different positions and orientations.\n",
    "  - MLPs fail to generalize well in such conditions."
   ]
  },
  {
   "cell_type": "markdown",
   "id": "7c4c321e-3cba-4aab-876c-8217e4287648",
   "metadata": {},
   "source": [
    "Drawbacks of MLPs for Image Processing\n",
    "Before diving into Convolutional Neural Networks (CNNs), it's important to understand the limitations of Multi-Layer Perceptrons (MLPs) when working with images. MLPs struggle with two major problems:\n",
    "\n",
    "# 1️⃣ Spatial Feature Loss\n",
    "- Flattening an image (converting a 2D matrix into a 1D vector) removes spatial relationships between pixels.\n",
    "- MLPs treat images as simple numbers instead of recognizing how pixels are related.\n",
    "- Example: If training a model to recognize squares, it will only recognize squares in a specific position but fail to detect them elsewhere.\n",
    " - Real-world impact: MLPs struggle with detecting objects in varying positions, orientations, and scales.\n",
    "     \n",
    "**Why CNNs are better?**\n",
    "- CNNs preserve spatial features by directly processing the image as a 2D structure.\n",
    "- They can recognize objects regardless of their position in the image.\n",
    "# 2️⃣ Fully Connected Layers & High Computation\n",
    "- MLPs use fully connected layers, meaning every neuron connects to every other neuron, leading to an explosion of parameters.\n",
    "**Example:**\n",
    "- A 1,000 × 1,000 image has 1 million pixels.\n",
    "- If the first hidden layer has 1,000 neurons, it results in 1 billion parameters to train!\n",
    "- As the network deepens, the number of parameters becomes unmanageable.\n",
    "  \n",
    "**Why CNNs are better?**  \n",
    "- CNNs use locally connected layers where each neuron connects only to a small region of the previous layer (called a receptive field).\n",
    "- This reduces the number of parameters drastically, making training faster and more efficient."
   ]
  },
  {
   "cell_type": "code",
   "execution_count": null,
   "id": "df90b141-9f6d-4003-bfc6-ccf04a3b001c",
   "metadata": {},
   "outputs": [],
   "source": []
  },
  {
   "cell_type": "code",
   "execution_count": null,
   "id": "9289c213-5c27-416c-8809-987c1b4252b6",
   "metadata": {},
   "outputs": [],
   "source": []
  }
 ],
 "metadata": {
  "kernelspec": {
   "display_name": "Python 3 (ipykernel)",
   "language": "python",
   "name": "python3"
  },
  "language_info": {
   "codemirror_mode": {
    "name": "ipython",
    "version": 3
   },
   "file_extension": ".py",
   "mimetype": "text/x-python",
   "name": "python",
   "nbconvert_exporter": "python",
   "pygments_lexer": "ipython3",
   "version": "3.12.4"
  }
 },
 "nbformat": 4,
 "nbformat_minor": 5
}
